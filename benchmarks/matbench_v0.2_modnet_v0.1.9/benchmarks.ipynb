{
 "cells": [
  {
   "cell_type": "markdown",
   "id": "divided-budget",
   "metadata": {},
   "source": [
    "For now, this benchmark file simply loads our existing full benchmark results (265 MB) from [ml-evs/modnet-matbench](https://github.com/ml-evs/modnet-matbench) and exports them in the matbench format. Code for featurisation, hyperparameter optimisation and the final predictions themselves can be found in the aforementioned repository."
   ]
  },
  {
   "cell_type": "code",
   "execution_count": 1,
   "id": "prostate-culture",
   "metadata": {},
   "outputs": [],
   "source": [
    "def download_and_extract(url, fname):\n",
    "    import urllib\n",
    "    from zipfile import ZipFile\n",
    "    import os\n",
    "    if os.path.exists(fname):\n",
    "        print(f\"File {fname} already found, will not redownload.\")\n",
    "        return\n",
    "    \n",
    "    response = urllib.request.urlretrieve(url, fname)\n",
    "    with ZipFile(fname, \"r\") as _zip:\n",
    "        _zip.extractall(\".\")\n",
    "        \n",
    "fname = \"modnet-matbench-0.2\"\n",
    "# url = f\"https://github.com/ml-evs/modnet-matbench/archive/refs/tags/v0.1.zip\"\n",
    "url = \"https://github.com/ml-evs/modnet-matbench/archive/refs/tags/v0.2.zip\"\n",
    "download_and_extract(url, fname + \".zip\")"
   ]
  },
  {
   "cell_type": "code",
   "execution_count": 2,
   "id": "standing-belarus",
   "metadata": {},
   "outputs": [
    {
     "name": "stdout",
     "output_type": "stream",
     "text": [
      "2021-06-10 16:14:49 INFO     Initialized benchmark 'matbench_v0.1' with 7 tasks: \n",
      "['matbench_dielectric',\n",
      " 'matbench_jdft2d',\n",
      " 'matbench_steels',\n",
      " 'matbench_expt_gap',\n",
      " 'matbench_phonons',\n",
      " 'matbench_log_gvrh',\n",
      " 'matbench_log_kvrh']\n"
     ]
    }
   ],
   "source": [
    "import pickle\n",
    "import numpy as np\n",
    "from matbench.bench import MatbenchBenchmark\n",
    "\n",
    "mb = MatbenchBenchmark(\n",
    "    autoload=False, \n",
    "    subset=[\n",
    "        'matbench_dielectric', \n",
    "        'matbench_jdft2d', \n",
    "        'matbench_steels', \n",
    "        'matbench_expt_gap', \n",
    "        'matbench_phonons',\n",
    "        # The two elastic datasets still currently contain huge outliers\n",
    "        'matbench_log_gvrh',\n",
    "        'matbench_log_kvrh',\n",
    "        # Cannot currently assess classification task accuracy correctly...\n",
    "        # 'matbench_glass', \n",
    "        # 'matbench_expt_is_metal', \n",
    "    ],\n",
    ")\n",
    "\n",
    "results_locs = {task.dataset_name: f\"{fname}/{task.dataset_name}/results/{task.dataset_name}_results.pkl\" for task in mb.tasks}\n",
    "results_locs[\"matbench_log_gvrh\"] = results_locs[\"matbench_log_kvrh\"] = f\"{fname}/matbench_elastic/results/matbench_elastic_results.pkl\"\n",
    "target_key_map = {\"matbench_log_gvrh\": \"log10G_VRH\", \"matbench_log_kvrh\": \"log10K_VRH\"}"
   ]
  },
  {
   "cell_type": "code",
   "execution_count": 3,
   "id": "interim-playing",
   "metadata": {},
   "outputs": [
    {
     "name": "stdout",
     "output_type": "stream",
     "text": [
      "2021-06-10 16:14:52 INFO     Loading dataset 'matbench_dielectric'...\n",
      "2021-06-10 16:14:58 INFO     Dataset 'matbench_dielectric loaded.\n",
      "2021-06-10 16:14:58 INFO     Recorded fold matbench_dielectric-0 successfully.\n",
      "2021-06-10 16:14:58 INFO     Recorded fold matbench_dielectric-1 successfully.\n",
      "2021-06-10 16:14:58 INFO     Recorded fold matbench_dielectric-2 successfully.\n",
      "2021-06-10 16:14:58 INFO     Recorded fold matbench_dielectric-3 successfully.\n",
      "2021-06-10 16:14:58 INFO     Recorded fold matbench_dielectric-4 successfully.\n",
      "2021-06-10 16:14:58 INFO     Loading dataset 'matbench_jdft2d'...\n",
      "2021-06-10 16:14:58 INFO     Dataset 'matbench_jdft2d loaded.\n",
      "2021-06-10 16:14:58 INFO     Recorded fold matbench_jdft2d-0 successfully.\n",
      "2021-06-10 16:14:58 INFO     Recorded fold matbench_jdft2d-1 successfully.\n",
      "2021-06-10 16:14:58 INFO     Recorded fold matbench_jdft2d-2 successfully.\n",
      "2021-06-10 16:14:58 INFO     Recorded fold matbench_jdft2d-3 successfully.\n",
      "2021-06-10 16:14:58 INFO     Recorded fold matbench_jdft2d-4 successfully.\n",
      "2021-06-10 16:14:58 INFO     Loading dataset 'matbench_steels'...\n",
      "2021-06-10 16:14:58 INFO     Dataset 'matbench_steels loaded.\n",
      "2021-06-10 16:14:58 INFO     Recorded fold matbench_steels-0 successfully.\n",
      "2021-06-10 16:14:58 INFO     Recorded fold matbench_steels-1 successfully.\n",
      "2021-06-10 16:14:58 INFO     Recorded fold matbench_steels-2 successfully.\n",
      "2021-06-10 16:14:58 INFO     Recorded fold matbench_steels-3 successfully.\n",
      "2021-06-10 16:14:59 INFO     Recorded fold matbench_steels-4 successfully.\n",
      "2021-06-10 16:14:59 INFO     Loading dataset 'matbench_expt_gap'...\n",
      "2021-06-10 16:14:59 INFO     Dataset 'matbench_expt_gap loaded.\n",
      "2021-06-10 16:14:59 INFO     Recorded fold matbench_expt_gap-0 successfully.\n",
      "2021-06-10 16:14:59 INFO     Recorded fold matbench_expt_gap-1 successfully.\n",
      "2021-06-10 16:14:59 INFO     Recorded fold matbench_expt_gap-2 successfully.\n",
      "2021-06-10 16:14:59 INFO     Recorded fold matbench_expt_gap-3 successfully.\n",
      "2021-06-10 16:14:59 INFO     Recorded fold matbench_expt_gap-4 successfully.\n",
      "2021-06-10 16:14:59 INFO     Loading dataset 'matbench_phonons'...\n",
      "2021-06-10 16:14:59 INFO     Dataset 'matbench_phonons loaded.\n",
      "2021-06-10 16:14:59 INFO     Recorded fold matbench_phonons-0 successfully.\n",
      "2021-06-10 16:14:59 INFO     Recorded fold matbench_phonons-1 successfully.\n",
      "2021-06-10 16:14:59 INFO     Recorded fold matbench_phonons-2 successfully.\n",
      "2021-06-10 16:14:59 INFO     Recorded fold matbench_phonons-3 successfully.\n",
      "2021-06-10 16:14:59 INFO     Recorded fold matbench_phonons-4 successfully.\n",
      "2021-06-10 16:14:59 INFO     Loading dataset 'matbench_log_gvrh'...\n",
      "2021-06-10 16:15:13 INFO     Dataset 'matbench_log_gvrh loaded.\n",
      "2021-06-10 16:15:13 INFO     Recorded fold matbench_log_gvrh-0 successfully.\n",
      "2021-06-10 16:15:13 INFO     Recorded fold matbench_log_gvrh-1 successfully.\n",
      "2021-06-10 16:15:13 INFO     Recorded fold matbench_log_gvrh-2 successfully.\n",
      "2021-06-10 16:15:14 INFO     Recorded fold matbench_log_gvrh-3 successfully.\n",
      "2021-06-10 16:15:14 INFO     Recorded fold matbench_log_gvrh-4 successfully.\n",
      "2021-06-10 16:15:14 INFO     Loading dataset 'matbench_log_kvrh'...\n",
      "2021-06-10 16:15:26 INFO     Dataset 'matbench_log_kvrh loaded.\n",
      "2021-06-10 16:15:26 INFO     Recorded fold matbench_log_kvrh-0 successfully.\n",
      "2021-06-10 16:15:26 INFO     Recorded fold matbench_log_kvrh-1 successfully.\n",
      "2021-06-10 16:15:26 INFO     Recorded fold matbench_log_kvrh-2 successfully.\n",
      "2021-06-10 16:15:26 INFO     Recorded fold matbench_log_kvrh-3 successfully.\n",
      "2021-06-10 16:15:26 INFO     Recorded fold matbench_log_kvrh-4 successfully.\n"
     ]
    }
   ],
   "source": [
    "for task in mb.tasks:\n",
    "    task.load()\n",
    "    \n",
    "    with open(results_locs[task.dataset_name], \"rb\") as f:\n",
    "        results = pickle.load(f)\n",
    "        \n",
    "    for fold_ind, fold in enumerate(task.folds):\n",
    "        if task.dataset_name in target_key_map:\n",
    "            predictions = results[\"predictions\"][fold_ind][target_key_map[task.dataset_name]].values.flatten()\n",
    "        else:\n",
    "            predictions = results[\"predictions\"][fold_ind].values.flatten()\n",
    "            \n",
    "        if task.dataset_name in (\"matbench_glass\", \"matbench_expt_is_metal\"):\n",
    "            predictions_ = predictions[:, 1]\n",
    "            \n",
    "        task.record(fold, predictions)\n",
    "        \n",
    "    task.df = None\n",
    "    "
   ]
  },
  {
   "cell_type": "code",
   "execution_count": 4,
   "id": "systematic-affair",
   "metadata": {},
   "outputs": [
    {
     "name": "stdout",
     "output_type": "stream",
     "text": [
      "2021-06-10 16:17:30 INFO     Successfully wrote MatbenchBenchmark to file 'results.json.gz'.\n"
     ]
    }
   ],
   "source": [
    "mb.to_file(\"results.json.gz\")"
   ]
  },
  {
   "cell_type": "code",
   "execution_count": null,
   "id": "hollywood-potter",
   "metadata": {},
   "outputs": [],
   "source": []
  }
 ],
 "metadata": {
  "kernelspec": {
   "display_name": "Python [conda env:modnet_38] *",
   "language": "python",
   "name": "conda-env-modnet_38-py"
  },
  "language_info": {
   "codemirror_mode": {
    "name": "ipython",
    "version": 3
   },
   "file_extension": ".py",
   "mimetype": "text/x-python",
   "name": "python",
   "nbconvert_exporter": "python",
   "pygments_lexer": "ipython3",
   "version": "3.8.5"
  }
 },
 "nbformat": 4,
 "nbformat_minor": 5
}
