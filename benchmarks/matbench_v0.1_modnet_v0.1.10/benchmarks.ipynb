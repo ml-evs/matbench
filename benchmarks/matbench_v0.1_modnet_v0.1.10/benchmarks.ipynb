{
 "cells": [
  {
   "cell_type": "markdown",
   "source": [
    "# MODNet (v0.1.10)\n",
    "\n",
    "For now, this benchmark file simply loads our existing full benchmark results (265 MB) from [ml-evs/modnet-matbench](https://github.com/ml-evs/modnet-matbench) and exports them in the matbench format. Code for featurisation, hyperparameter optimisation and the final predictions themselves can be found in the aforementioned repository or in the illustrative run.py file."
   ],
   "metadata": {}
  },
  {
   "cell_type": "code",
   "execution_count": 2,
   "source": [
    "def download_and_extract(url, fname):\n",
    "    import urllib\n",
    "    from zipfile import ZipFile\n",
    "    import os\n",
    "    if os.path.exists(fname):\n",
    "        print(f\"File {fname} already found, will not redownload.\")\n",
    "        return\n",
    "    \n",
    "    response = urllib.request.urlretrieve(url, fname)\n",
    "    with ZipFile(fname, \"r\") as _zip:\n",
    "        _zip.extractall(\".\")\n",
    "\n",
    "# repo = \"ml-evs/modnet-matbench\"\n",
    "repo = \"ppdebreuck/modnet-matbench\"\n",
    "\n",
    "version = \"main\"\n",
    "fname = f'modnet-matbench-{version.replace(\"#\", \"-\").replace(\"/\", \"-\")}'\n",
    "if version.startswith(\"v\"):\n",
    "    url = f\"https://github.com/{repo}/archive/refs/tags/{version}.zip\"\n",
    "else:\n",
    "    url = f'https://github.com/{repo}/archive/refs/heads/{version.replace(\"#\", \"%23\")}.zip'\n",
    "\n",
    "\n",
    "download_and_extract(url, fname + \".zip\")"
   ],
   "outputs": [],
   "metadata": {}
  },
  {
   "cell_type": "code",
   "execution_count": 3,
   "source": [
    "import pickle\n",
    "from matbench.bench import MatbenchBenchmark\n",
    "from matbench.constants import CLF_KEY\n",
    "\n",
    "mb = MatbenchBenchmark(\n",
    "    autoload=False, \n",
    "    subset=[\n",
    "        'matbench_dielectric', \n",
    "        'matbench_jdft2d', \n",
    "        'matbench_steels', \n",
    "        'matbench_expt_gap', \n",
    "        'matbench_phonons',\n",
    "        'matbench_log_gvrh',\n",
    "        'matbench_log_kvrh',\n",
    "        'matbench_glass', \n",
    "        'matbench_expt_is_metal',\n",
    "        'matbench_perovskites',\n",
    "        'matbench_mp_gap',\n",
    "        'matbench_mp_is_metal',\n",
    "        'matbench_mp_e_form'\n",
    "    ],\n",
    ")\n",
    "\n",
    "results_locs = {task.dataset_name: f\"{fname}/{task.dataset_name}/results/{task.dataset_name}_results.pkl\" for task in mb.tasks}\n",
    "# Remap filename for elastic tasks as they were joint-learned\n",
    "results_locs[\"matbench_log_gvrh\"] = results_locs[\"matbench_log_kvrh\"] = f\"{fname}/matbench_elastic/results/matbench_elastic_results.pkl\"\n",
    "target_key_map = {\"matbench_log_gvrh\": \"log10G_VRH\", \"matbench_log_kvrh\": \"log10K_VRH\"}"
   ],
   "outputs": [
    {
     "output_type": "stream",
     "name": "stdout",
     "text": [
      "2021-10-08 10:30:29 INFO     Initialized benchmark 'matbench_v0.1' with 13 tasks: \n",
      "['matbench_dielectric',\n",
      " 'matbench_jdft2d',\n",
      " 'matbench_steels',\n",
      " 'matbench_expt_gap',\n",
      " 'matbench_phonons',\n",
      " 'matbench_log_gvrh',\n",
      " 'matbench_log_kvrh',\n",
      " 'matbench_glass',\n",
      " 'matbench_expt_is_metal',\n",
      " 'matbench_perovskites',\n",
      " 'matbench_mp_gap',\n",
      " 'matbench_mp_is_metal',\n",
      " 'matbench_mp_e_form']\n"
     ]
    }
   ],
   "metadata": {}
  },
  {
   "cell_type": "code",
   "execution_count": 4,
   "source": [
    "for task in mb.tasks:\n",
    "    task.load()\n",
    "    with open(results_locs[task.dataset_name], \"rb\") as f:\n",
    "        results = pickle.load(f)\n",
    "        \n",
    "    for fold_ind, fold in enumerate(task.folds):\n",
    "\n",
    "        # Handle predictions that were made with joint/multitarget learning\n",
    "        if task.dataset_name in target_key_map:\n",
    "            predictions = results[\"predictions\"][fold_ind][target_key_map[task.dataset_name]].values\n",
    "        else:\n",
    "            predictions = results[\"predictions\"][fold_ind].values\n",
    "        \n",
    "        # Classification tasks must be recorded with labels and not group probabilities\n",
    "        if task.metadata.task_type == CLF_KEY:\n",
    "            predictions = predictions[:, 1] >= 0.5\n",
    "\n",
    "        predictions = predictions.flatten()\n",
    "\n",
    "        task.record(fold, predictions)\n",
    "        \n",
    "    if task.metadata.task_type == CLF_KEY:\n",
    "        print(f\"{task.dataset_name}: Accuracy score {task.scores['accuracy']['mean']}\")\n",
    "        print(f\"{task.dataset_name}: ROC score {task.scores['rocauc']['mean']}\")\n",
    "    else:\n",
    "        print(f\"{task.dataset_name}: MAE {task.scores['mae']['mean']}\")\n",
    "\n",
    "    task.df = None"
   ],
   "outputs": [
    {
     "output_type": "stream",
     "name": "stdout",
     "text": [
      "2021-10-08 10:32:02 INFO     Loading dataset 'matbench_dielectric'...\n"
     ]
    },
    {
     "output_type": "stream",
     "name": "stderr",
     "text": [
      "Reading file /home/mevans/.local/conda/envs/modnet_matbench/lib/python3.8/site-packages/matminer/datasets/matbench_dielectric.json.gz: 4764it [00:06, 752.56it/s] "
     ]
    },
    {
     "output_type": "stream",
     "name": "stdout",
     "text": [
      "2021-10-08 10:32:09 INFO     Dataset 'matbench_dielectric loaded.\n",
      "2021-10-08 10:32:09 INFO     Recorded fold matbench_dielectric-0 successfully.\n",
      "2021-10-08 10:32:09 INFO     Recorded fold matbench_dielectric-1 successfully.\n",
      "2021-10-08 10:32:09 INFO     Recorded fold matbench_dielectric-2 successfully.\n",
      "2021-10-08 10:32:09 INFO     Recorded fold matbench_dielectric-3 successfully.\n",
      "2021-10-08 10:32:09 INFO     Recorded fold matbench_dielectric-4 successfully.\n"
     ]
    },
    {
     "output_type": "stream",
     "name": "stderr",
     "text": [
      "\n"
     ]
    },
    {
     "output_type": "stream",
     "name": "stdout",
     "text": [
      "matbench_dielectric: MAE 0.2969698688737498\n",
      "2021-10-08 10:32:09 INFO     Loading dataset 'matbench_jdft2d'...\n"
     ]
    },
    {
     "output_type": "stream",
     "name": "stderr",
     "text": [
      "Reading file /home/mevans/.local/conda/envs/modnet_matbench/lib/python3.8/site-packages/matminer/datasets/matbench_jdft2d.json.gz: 636it [00:00, 1782.27it/s]"
     ]
    },
    {
     "output_type": "stream",
     "name": "stdout",
     "text": [
      "2021-10-08 10:32:09 INFO     Dataset 'matbench_jdft2d loaded.\n",
      "2021-10-08 10:32:09 INFO     Recorded fold matbench_jdft2d-0 successfully.\n",
      "2021-10-08 10:32:09 INFO     Recorded fold matbench_jdft2d-1 successfully.\n",
      "2021-10-08 10:32:09 INFO     Recorded fold matbench_jdft2d-2 successfully.\n",
      "2021-10-08 10:32:09 INFO     Recorded fold matbench_jdft2d-3 successfully.\n",
      "2021-10-08 10:32:09 INFO     Recorded fold matbench_jdft2d-4 successfully.\n",
      "matbench_jdft2d: MAE 34.53678641963336\n",
      "2021-10-08 10:32:09 INFO     Loading dataset 'matbench_steels'...\n"
     ]
    },
    {
     "output_type": "stream",
     "name": "stderr",
     "text": [
      "\n",
      "Reading file /home/mevans/.local/conda/envs/modnet_matbench/lib/python3.8/site-packages/matminer/datasets/matbench_steels.json.gz: 0it [00:00, ?it/s]"
     ]
    },
    {
     "output_type": "stream",
     "name": "stdout",
     "text": [
      "2021-10-08 10:32:09 INFO     Dataset 'matbench_steels loaded.\n"
     ]
    },
    {
     "output_type": "stream",
     "name": "stderr",
     "text": [
      "\n",
      "Decoding objects from /home/mevans/.local/conda/envs/modnet_matbench/lib/python3.8/site-packages/matminer/datasets/matbench_steels.json.gz: 0it [00:00, ?it/s]"
     ]
    },
    {
     "output_type": "stream",
     "name": "stdout",
     "text": [
      "2021-10-08 10:32:09 INFO     Recorded fold matbench_steels-0 successfully.\n",
      "2021-10-08 10:32:09 INFO     Recorded fold matbench_steels-1 successfully.\n",
      "2021-10-08 10:32:09 INFO     Recorded fold matbench_steels-2 successfully.\n",
      "2021-10-08 10:32:09 INFO     Recorded fold matbench_steels-3 successfully.\n",
      "2021-10-08 10:32:09 INFO     Recorded fold matbench_steels-4 successfully.\n",
      "matbench_steels: MAE 96.21387590993324\n",
      "2021-10-08 10:32:09 INFO     Loading dataset 'matbench_expt_gap'...\n"
     ]
    },
    {
     "output_type": "stream",
     "name": "stderr",
     "text": [
      "\n",
      "Reading file /home/mevans/.local/conda/envs/modnet_matbench/lib/python3.8/site-packages/matminer/datasets/matbench_expt_gap.json.gz: 0it [00:00, ?it/s]"
     ]
    },
    {
     "output_type": "stream",
     "name": "stdout",
     "text": [
      "2021-10-08 10:32:09 INFO     Dataset 'matbench_expt_gap loaded.\n"
     ]
    },
    {
     "output_type": "stream",
     "name": "stderr",
     "text": [
      "\n"
     ]
    },
    {
     "output_type": "stream",
     "name": "stdout",
     "text": [
      "2021-10-08 10:32:09 INFO     Recorded fold matbench_expt_gap-0 successfully.\n",
      "2021-10-08 10:32:09 INFO     Recorded fold matbench_expt_gap-1 successfully.\n",
      "2021-10-08 10:32:09 INFO     Recorded fold matbench_expt_gap-2 successfully.\n",
      "2021-10-08 10:32:09 INFO     Recorded fold matbench_expt_gap-3 successfully.\n",
      "2021-10-08 10:32:09 INFO     Recorded fold matbench_expt_gap-4 successfully.\n",
      "matbench_expt_gap: MAE 0.3470153653294551\n",
      "2021-10-08 10:32:09 INFO     Loading dataset 'matbench_phonons'...\n"
     ]
    },
    {
     "output_type": "stream",
     "name": "stderr",
     "text": [
      "Decoding objects from /home/mevans/.local/conda/envs/modnet_matbench/lib/python3.8/site-packages/matminer/datasets/matbench_dielectric.json.gz: 100%|##########| 4764/4764 [00:07<00:00, 641.42it/s] \n",
      "Decoding objects from /home/mevans/.local/conda/envs/modnet_matbench/lib/python3.8/site-packages/matminer/datasets/matbench_jdft2d.json.gz: 100%|##########| 636/636 [00:00<00:00, 686.93it/s] \n",
      "Decoding objects from /home/mevans/.local/conda/envs/modnet_matbench/lib/python3.8/site-packages/matminer/datasets/matbench_expt_gap.json.gz: 0it [00:00, ?it/s]\n",
      "Reading file /home/mevans/.local/conda/envs/modnet_matbench/lib/python3.8/site-packages/matminer/datasets/matbench_phonons.json.gz: 1265it [00:00, 2213.85it/s]"
     ]
    },
    {
     "output_type": "stream",
     "name": "stdout",
     "text": [
      "2021-10-08 10:32:10 INFO     Dataset 'matbench_phonons loaded.\n",
      "2021-10-08 10:32:10 INFO     Recorded fold matbench_phonons-0 successfully.\n",
      "2021-10-08 10:32:10 INFO     Recorded fold matbench_phonons-1 successfully.\n",
      "2021-10-08 10:32:10 INFO     Recorded fold matbench_phonons-2 successfully.\n",
      "2021-10-08 10:32:10 INFO     Recorded fold matbench_phonons-3 successfully.\n",
      "2021-10-08 10:32:10 INFO     Recorded fold matbench_phonons-4 successfully.\n",
      "matbench_phonons: MAE 38.7524344203875\n",
      "2021-10-08 10:32:10 INFO     Loading dataset 'matbench_log_gvrh'...\n"
     ]
    },
    {
     "output_type": "stream",
     "name": "stderr",
     "text": [
      "\n",
      "Decoding objects from /home/mevans/.local/conda/envs/modnet_matbench/lib/python3.8/site-packages/matminer/datasets/matbench_phonons.json.gz: 100%|##########| 1265/1265 [00:00<00:00, 1462.01it/s]\n",
      "Reading file /home/mevans/.local/conda/envs/modnet_matbench/lib/python3.8/site-packages/matminer/datasets/matbench_log_gvrh.json.gz: 10987it [00:05, 1852.14it/s]"
     ]
    },
    {
     "output_type": "stream",
     "name": "stdout",
     "text": [
      "2021-10-08 10:32:16 INFO     Dataset 'matbench_log_gvrh loaded.\n",
      "2021-10-08 10:32:16 INFO     Recorded fold matbench_log_gvrh-0 successfully.\n",
      "2021-10-08 10:32:16 INFO     Recorded fold matbench_log_gvrh-1 successfully.\n",
      "2021-10-08 10:32:16 INFO     Recorded fold matbench_log_gvrh-2 successfully.\n",
      "2021-10-08 10:32:16 INFO     Recorded fold matbench_log_gvrh-3 successfully.\n",
      "2021-10-08 10:32:16 INFO     Recorded fold matbench_log_gvrh-4 successfully.\n"
     ]
    },
    {
     "output_type": "stream",
     "name": "stderr",
     "text": [
      "\n"
     ]
    },
    {
     "output_type": "stream",
     "name": "stdout",
     "text": [
      "matbench_log_gvrh: MAE 0.07311620406947483\n",
      "2021-10-08 10:32:16 INFO     Loading dataset 'matbench_log_kvrh'...\n"
     ]
    },
    {
     "output_type": "stream",
     "name": "stderr",
     "text": [
      "Decoding objects from /home/mevans/.local/conda/envs/modnet_matbench/lib/python3.8/site-packages/matminer/datasets/matbench_log_gvrh.json.gz: 100%|##########| 10987/10987 [00:06<00:00, 1747.02it/s]\n",
      "Reading file /home/mevans/.local/conda/envs/modnet_matbench/lib/python3.8/site-packages/matminer/datasets/matbench_log_kvrh.json.gz: 10987it [00:05, 1917.66it/s]"
     ]
    },
    {
     "output_type": "stream",
     "name": "stdout",
     "text": [
      "2021-10-08 10:32:22 INFO     Dataset 'matbench_log_kvrh loaded.\n",
      "2021-10-08 10:32:22 INFO     Recorded fold matbench_log_kvrh-0 successfully.\n",
      "2021-10-08 10:32:22 INFO     Recorded fold matbench_log_kvrh-1 successfully.\n",
      "2021-10-08 10:32:22 INFO     Recorded fold matbench_log_kvrh-2 successfully.\n",
      "2021-10-08 10:32:22 INFO     Recorded fold matbench_log_kvrh-3 successfully.\n",
      "2021-10-08 10:32:22 INFO     Recorded fold matbench_log_kvrh-4 successfully.\n"
     ]
    },
    {
     "output_type": "stream",
     "name": "stderr",
     "text": [
      "\n"
     ]
    },
    {
     "output_type": "stream",
     "name": "stdout",
     "text": [
      "matbench_log_kvrh: MAE 0.05477001646276852\n",
      "2021-10-08 10:32:22 INFO     Loading dataset 'matbench_glass'...\n"
     ]
    },
    {
     "output_type": "stream",
     "name": "stderr",
     "text": [
      "Reading file /home/mevans/.local/conda/envs/modnet_matbench/lib/python3.8/site-packages/matminer/datasets/matbench_glass.json.gz: 0it [00:00, ?it/s]"
     ]
    },
    {
     "output_type": "stream",
     "name": "stdout",
     "text": [
      "2021-10-08 10:32:22 INFO     Dataset 'matbench_glass loaded.\n"
     ]
    },
    {
     "output_type": "stream",
     "name": "stderr",
     "text": [
      "\n"
     ]
    },
    {
     "output_type": "stream",
     "name": "stdout",
     "text": [
      "2021-10-08 10:32:22 INFO     Recorded fold matbench_glass-0 successfully.\n",
      "2021-10-08 10:32:22 INFO     Recorded fold matbench_glass-1 successfully.\n",
      "2021-10-08 10:32:22 INFO     Recorded fold matbench_glass-2 successfully.\n",
      "2021-10-08 10:32:22 INFO     Recorded fold matbench_glass-3 successfully.\n",
      "2021-10-08 10:32:22 INFO     Recorded fold matbench_glass-4 successfully.\n",
      "matbench_glass: Accuracy score 0.8676056338028169\n",
      "matbench_glass: ROC score 0.8106763388737604\n",
      "2021-10-08 10:32:22 INFO     Loading dataset 'matbench_expt_is_metal'...\n"
     ]
    },
    {
     "output_type": "stream",
     "name": "stderr",
     "text": [
      "Reading file /home/mevans/.local/conda/envs/modnet_matbench/lib/python3.8/site-packages/matminer/datasets/matbench_expt_is_metal.json.gz: 0it [00:00, ?it/s]"
     ]
    },
    {
     "output_type": "stream",
     "name": "stdout",
     "text": [
      "2021-10-08 10:32:22 INFO     Dataset 'matbench_expt_is_metal loaded.\n",
      "2021-10-08 10:32:22 INFO     Recorded fold matbench_expt_is_metal-0 successfully.\n",
      "2021-10-08 10:32:22 INFO     Recorded fold matbench_expt_is_metal-1 successfully.\n",
      "2021-10-08 10:32:22 INFO     Recorded fold matbench_expt_is_metal-2 successfully.\n",
      "2021-10-08 10:32:22 INFO     Recorded fold matbench_expt_is_metal-3 successfully.\n",
      "2021-10-08 10:32:22 INFO     Recorded fold matbench_expt_is_metal-4 successfully.\n",
      "matbench_expt_is_metal: Accuracy score 0.9160717675704676\n",
      "matbench_expt_is_metal: ROC score 0.9160515032798082\n",
      "2021-10-08 10:32:22 INFO     Loading dataset 'matbench_perovskites'...\n"
     ]
    },
    {
     "output_type": "stream",
     "name": "stderr",
     "text": [
      "\n",
      "Decoding objects from /home/mevans/.local/conda/envs/modnet_matbench/lib/python3.8/site-packages/matminer/datasets/matbench_log_kvrh.json.gz: 100%|##########| 10987/10987 [00:06<00:00, 1679.38it/s]\n",
      "Decoding objects from /home/mevans/.local/conda/envs/modnet_matbench/lib/python3.8/site-packages/matminer/datasets/matbench_glass.json.gz: 0it [00:00, ?it/s]\n",
      "Decoding objects from /home/mevans/.local/conda/envs/modnet_matbench/lib/python3.8/site-packages/matminer/datasets/matbench_expt_is_metal.json.gz: 0it [00:00, ?it/s]\n",
      "Reading file /home/mevans/.local/conda/envs/modnet_matbench/lib/python3.8/site-packages/matminer/datasets/matbench_perovskites.json.gz: 18928it [00:04, 4384.41it/s] "
     ]
    },
    {
     "output_type": "stream",
     "name": "stdout",
     "text": [
      "2021-10-08 10:32:26 INFO     Dataset 'matbench_perovskites loaded.\n"
     ]
    },
    {
     "output_type": "stream",
     "name": "stderr",
     "text": [
      "\n"
     ]
    },
    {
     "output_type": "stream",
     "name": "stdout",
     "text": [
      "2021-10-08 10:32:27 INFO     Recorded fold matbench_perovskites-0 successfully.\n",
      "2021-10-08 10:32:27 INFO     Recorded fold matbench_perovskites-1 successfully.\n",
      "2021-10-08 10:32:27 INFO     Recorded fold matbench_perovskites-2 successfully.\n",
      "2021-10-08 10:32:27 INFO     Recorded fold matbench_perovskites-3 successfully.\n",
      "2021-10-08 10:32:27 INFO     Recorded fold matbench_perovskites-4 successfully.\n",
      "matbench_perovskites: MAE 0.09075423473752561\n",
      "2021-10-08 10:32:27 INFO     Loading dataset 'matbench_mp_gap'...\n"
     ]
    },
    {
     "output_type": "stream",
     "name": "stderr",
     "text": [
      "Decoding objects from /home/mevans/.local/conda/envs/modnet_matbench/lib/python3.8/site-packages/matminer/datasets/matbench_perovskites.json.gz: 100%|##########| 18928/18928 [00:08<00:00, 2118.95it/s]\n",
      "Reading file /home/mevans/.local/conda/envs/modnet_matbench/lib/python3.8/site-packages/matminer/datasets/matbench_mp_gap.json.gz: 106113it [02:28, 713.75it/s] "
     ]
    },
    {
     "output_type": "stream",
     "name": "stdout",
     "text": [
      "2021-10-08 10:34:56 INFO     Dataset 'matbench_mp_gap loaded.\n"
     ]
    },
    {
     "output_type": "stream",
     "name": "stderr",
     "text": [
      "\n"
     ]
    },
    {
     "output_type": "stream",
     "name": "stdout",
     "text": [
      "2021-10-08 10:34:56 INFO     Recorded fold matbench_mp_gap-0 successfully.\n",
      "2021-10-08 10:34:56 INFO     Recorded fold matbench_mp_gap-1 successfully.\n",
      "2021-10-08 10:34:56 INFO     Recorded fold matbench_mp_gap-2 successfully.\n",
      "2021-10-08 10:34:56 INFO     Recorded fold matbench_mp_gap-3 successfully.\n",
      "2021-10-08 10:34:56 INFO     Recorded fold matbench_mp_gap-4 successfully.\n",
      "matbench_mp_gap: MAE 0.21987236694632012\n",
      "2021-10-08 10:34:58 INFO     Loading dataset 'matbench_mp_is_metal'...\n"
     ]
    },
    {
     "output_type": "stream",
     "name": "stderr",
     "text": [
      "Decoding objects from /home/mevans/.local/conda/envs/modnet_matbench/lib/python3.8/site-packages/matminer/datasets/matbench_mp_gap.json.gz: 100%|##########| 106113/106113 [02:38<00:00, 669.50it/s] \n",
      "Reading file /home/mevans/.local/conda/envs/modnet_matbench/lib/python3.8/site-packages/matminer/datasets/matbench_mp_is_metal.json.gz: 106113it [02:25, 731.75it/s] "
     ]
    },
    {
     "output_type": "stream",
     "name": "stdout",
     "text": [
      "2021-10-08 10:37:24 INFO     Dataset 'matbench_mp_is_metal loaded.\n",
      "2021-10-08 10:37:24 INFO     Recorded fold matbench_mp_is_metal-0 successfully.\n"
     ]
    },
    {
     "output_type": "stream",
     "name": "stderr",
     "text": [
      "\n"
     ]
    },
    {
     "output_type": "stream",
     "name": "stdout",
     "text": [
      "2021-10-08 10:37:24 INFO     Recorded fold matbench_mp_is_metal-1 successfully.\n",
      "2021-10-08 10:37:24 INFO     Recorded fold matbench_mp_is_metal-2 successfully.\n",
      "2021-10-08 10:37:24 INFO     Recorded fold matbench_mp_is_metal-3 successfully.\n",
      "2021-10-08 10:37:24 INFO     Recorded fold matbench_mp_is_metal-4 successfully.\n",
      "matbench_mp_is_metal: Accuracy score 0.8030506180286311\n",
      "matbench_mp_is_metal: ROC score 0.7804643191398983\n",
      "2021-10-08 10:37:26 INFO     Loading dataset 'matbench_mp_e_form'...\n"
     ]
    },
    {
     "output_type": "stream",
     "name": "stderr",
     "text": [
      "Decoding objects from /home/mevans/.local/conda/envs/modnet_matbench/lib/python3.8/site-packages/matminer/datasets/matbench_mp_is_metal.json.gz: 100%|##########| 106113/106113 [02:33<00:00, 690.26it/s] \n",
      "Reading file /home/mevans/.local/conda/envs/modnet_matbench/lib/python3.8/site-packages/matminer/datasets/matbench_mp_e_form.json.gz: 132752it [02:59, 740.21it/s] "
     ]
    },
    {
     "output_type": "stream",
     "name": "stdout",
     "text": [
      "2021-10-08 10:40:26 INFO     Dataset 'matbench_mp_e_form loaded.\n"
     ]
    },
    {
     "output_type": "stream",
     "name": "stderr",
     "text": [
      "\n"
     ]
    },
    {
     "output_type": "stream",
     "name": "stdout",
     "text": [
      "2021-10-08 10:40:26 INFO     Recorded fold matbench_mp_e_form-0 successfully.\n",
      "2021-10-08 10:40:26 INFO     Recorded fold matbench_mp_e_form-1 successfully.\n",
      "2021-10-08 10:40:26 INFO     Recorded fold matbench_mp_e_form-2 successfully.\n",
      "2021-10-08 10:40:26 INFO     Recorded fold matbench_mp_e_form-3 successfully.\n",
      "2021-10-08 10:40:26 INFO     Recorded fold matbench_mp_e_form-4 successfully.\n",
      "matbench_mp_e_form: MAE 0.044769163811452004\n"
     ]
    },
    {
     "output_type": "stream",
     "name": "stderr",
     "text": [
      "Decoding objects from /home/mevans/.local/conda/envs/modnet_matbench/lib/python3.8/site-packages/matminer/datasets/matbench_mp_e_form.json.gz: 100%|##########| 132752/132752 [03:09<00:00, 1081.19it/s]"
     ]
    }
   ],
   "metadata": {}
  },
  {
   "cell_type": "code",
   "execution_count": 5,
   "source": [
    "mb.to_file(\"results.json.gz\")"
   ],
   "outputs": [
    {
     "output_type": "stream",
     "name": "stdout",
     "text": [
      "2021-10-08 10:58:16 INFO     Successfully wrote MatbenchBenchmark to file 'results.json.gz'.\n"
     ]
    }
   ],
   "metadata": {}
  }
 ],
 "metadata": {
  "kernelspec": {
   "name": "python3",
   "display_name": "Python 3.8.11 64-bit ('modnet_matbench': conda)"
  },
  "language_info": {
   "codemirror_mode": {
    "name": "ipython",
    "version": 3
   },
   "file_extension": ".py",
   "mimetype": "text/x-python",
   "name": "python",
   "nbconvert_exporter": "python",
   "pygments_lexer": "ipython3",
   "version": "3.8.11"
  },
  "interpreter": {
   "hash": "ab74d777aa78e6796984bc572ffbc8ac7917152da5feb624ad45fa04e0a32b7a"
  }
 },
 "nbformat": 4,
 "nbformat_minor": 5
}