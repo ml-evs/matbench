{
 "cells": [
  {
   "cell_type": "markdown",
   "metadata": {},
   "source": [
    "# MODNet (v0.1.10)\n",
    "\n",
    "For now, this benchmark file simply loads our existing full benchmark results (265 MB) from [ml-evs/modnet-matbench](https://github.com/ml-evs/modnet-matbench) and exports them in the matbench format. Code for featurisation, hyperparameter optimisation and the final predictions themselves can be found in the aforementioned repository or in the illusrative run.ipynb notebook."
   ]
  },
  {
   "cell_type": "code",
   "execution_count": 6,
   "metadata": {},
   "outputs": [],
   "source": [
    "def download_and_extract(url, fname):\n",
    "    import urllib\n",
    "    from zipfile import ZipFile\n",
    "    import os\n",
    "    if os.path.exists(fname):\n",
    "        print(f\"File {fname} already found, will not redownload.\")\n",
    "        return\n",
    "    \n",
    "    response = urllib.request.urlretrieve(url, fname)\n",
    "    with ZipFile(fname, \"r\") as _zip:\n",
    "        _zip.extractall(\".\")\n",
    "        \n",
    "version = \"0.2.1\"\n",
    "fname = f\"modnet-matbench-{version}\"\n",
    "url = f\"https://github.com/ml-evs/modnet-matbench/archive/refs/tags/v{version}.zip\"\n",
    "\n",
    "download_and_extract(url, fname + \".zip\")"
   ]
  },
  {
   "cell_type": "code",
   "execution_count": 7,
   "metadata": {},
   "outputs": [
    {
     "name": "stdout",
     "output_type": "stream",
     "text": [
      "2021-08-07 14:16:06 INFO     Initialized benchmark 'matbench_v0.1' with 7 tasks: \n",
      "['matbench_dielectric',\n",
      " 'matbench_jdft2d',\n",
      " 'matbench_steels',\n",
      " 'matbench_expt_gap',\n",
      " 'matbench_phonons',\n",
      " 'matbench_log_gvrh',\n",
      " 'matbench_log_kvrh']\n"
     ]
    }
   ],
   "source": [
    "import pickle\n",
    "import numpy as np\n",
    "from matbench.bench import MatbenchBenchmark\n",
    "from matbench.constants import CLF_KEY\n",
    "\n",
    "mb = MatbenchBenchmark(\n",
    "    autoload=False, \n",
    "    subset=[\n",
    "        'matbench_dielectric', \n",
    "        'matbench_jdft2d', \n",
    "        'matbench_steels', \n",
    "        'matbench_expt_gap', \n",
    "        'matbench_phonons',\n",
    "        'matbench_log_gvrh',\n",
    "        'matbench_log_kvrh',\n",
    "        # 'matbench_glass', # classification tasks omitted due to ROC_AUC score issue, see GitHub issues.\n",
    "        # 'matbench_expt_is_metal', \n",
    "    ],\n",
    ")\n",
    "\n",
    "results_locs = {task.dataset_name: f\"{fname}/{task.dataset_name}/results/{task.dataset_name}_results.pkl\" for task in mb.tasks}\n",
    "results_locs[\"matbench_log_gvrh\"] = results_locs[\"matbench_log_kvrh\"] = f\"{fname}/matbench_elastic/results/matbench_elastic_results.pkl\"\n",
    "target_key_map = {\"matbench_log_gvrh\": \"log10G_VRH\", \"matbench_log_kvrh\": \"log10K_VRH\"}"
   ]
  },
  {
   "cell_type": "code",
   "execution_count": 8,
   "metadata": {},
   "outputs": [
    {
     "name": "stdout",
     "output_type": "stream",
     "text": [
      "2021-08-07 14:16:07 INFO     Loading dataset 'matbench_dielectric'...\n"
     ]
    },
    {
     "name": "stderr",
     "output_type": "stream",
     "text": [
      "Reading file /Users/ppdebreuck/anaconda3/envs/modnet/lib/python3.8/site-packages/matminer/datasets/matbench_log_kvrh.json.gz: 10987it [01:39, 110.35it/s]  \n",
      "Decoding objects from /Users/ppdebreuck/anaconda3/envs/modnet/lib/python3.8/site-packages/matminer/datasets/matbench_log_kvrh.json.gz: 100%|##########| 10987/10987 [01:39<00:00, 110.35it/s] \n",
      "Decoding objects from /Users/ppdebreuck/anaconda3/envs/modnet/lib/python3.8/site-packages/matminer/datasets/matbench_dielectric.json.gz:  98%|#########7| 4649/4764 [00:04<00:00, 1804.81it/s]"
     ]
    },
    {
     "name": "stdout",
     "output_type": "stream",
     "text": [
      "2021-08-07 14:16:11 INFO     Dataset 'matbench_dielectric loaded.\n",
      "2021-08-07 14:16:11 INFO     Recorded fold matbench_dielectric-0 successfully.\n",
      "2021-08-07 14:16:11 INFO     Recorded fold matbench_dielectric-1 successfully.\n",
      "2021-08-07 14:16:11 INFO     Recorded fold matbench_dielectric-2 successfully.\n",
      "2021-08-07 14:16:11 INFO     Recorded fold matbench_dielectric-3 successfully.\n",
      "2021-08-07 14:16:11 INFO     Recorded fold matbench_dielectric-4 successfully.\n",
      "matbench_dielectric: MAE 0.2969698688737498\n",
      "2021-08-07 14:16:11 INFO     Loading dataset 'matbench_jdft2d'...\n"
     ]
    },
    {
     "name": "stderr",
     "output_type": "stream",
     "text": [
      "Decoding objects from /Users/ppdebreuck/anaconda3/envs/modnet/lib/python3.8/site-packages/matminer/datasets/matbench_jdft2d.json.gz:  76%|#######5  | 481/636 [00:00<00:00, 2730.56it/s]"
     ]
    },
    {
     "name": "stdout",
     "output_type": "stream",
     "text": [
      "2021-08-07 14:16:12 INFO     Dataset 'matbench_jdft2d loaded.\n",
      "2021-08-07 14:16:12 INFO     Recorded fold matbench_jdft2d-0 successfully.\n",
      "2021-08-07 14:16:12 INFO     Recorded fold matbench_jdft2d-1 successfully.\n",
      "2021-08-07 14:16:12 INFO     Recorded fold matbench_jdft2d-2 successfully.\n",
      "2021-08-07 14:16:12 INFO     Recorded fold matbench_jdft2d-3 successfully.\n",
      "2021-08-07 14:16:12 INFO     Recorded fold matbench_jdft2d-4 successfully.\n",
      "matbench_jdft2d: MAE 34.53678641963336\n",
      "2021-08-07 14:16:12 INFO     Loading dataset 'matbench_steels'...\n"
     ]
    },
    {
     "name": "stderr",
     "output_type": "stream",
     "text": [
      "Decoding objects from /Users/ppdebreuck/anaconda3/envs/modnet/lib/python3.8/site-packages/matminer/datasets/matbench_steels.json.gz: 0it [00:00, ?it/s]"
     ]
    },
    {
     "name": "stdout",
     "output_type": "stream",
     "text": [
      "2021-08-07 14:16:12 INFO     Dataset 'matbench_steels loaded.\n"
     ]
    },
    {
     "name": "stderr",
     "output_type": "stream",
     "text": [
      "Reading file /Users/ppdebreuck/anaconda3/envs/modnet/lib/python3.8/site-packages/matminer/datasets/matbench_steels.json.gz: 0it [00:00, ?it/s]\n",
      "Decoding objects from /Users/ppdebreuck/anaconda3/envs/modnet/lib/python3.8/site-packages/matminer/datasets/matbench_steels.json.gz: 0it [00:00, ?it/s]"
     ]
    },
    {
     "name": "stdout",
     "output_type": "stream",
     "text": [
      "2021-08-07 14:16:12 INFO     Recorded fold matbench_steels-0 successfully.\n",
      "2021-08-07 14:16:12 INFO     Recorded fold matbench_steels-1 successfully.\n",
      "2021-08-07 14:16:12 INFO     Recorded fold matbench_steels-2 successfully.\n",
      "2021-08-07 14:16:12 INFO     Recorded fold matbench_steels-3 successfully.\n",
      "2021-08-07 14:16:12 INFO     Recorded fold matbench_steels-4 successfully.\n",
      "matbench_steels: MAE 96.21387590993324\n",
      "2021-08-07 14:16:12 INFO     Loading dataset 'matbench_expt_gap'...\n"
     ]
    },
    {
     "name": "stderr",
     "output_type": "stream",
     "text": [
      "\n",
      "Decoding objects from /Users/ppdebreuck/anaconda3/envs/modnet/lib/python3.8/site-packages/matminer/datasets/matbench_expt_gap.json.gz: 0it [00:00, ?it/s]"
     ]
    },
    {
     "name": "stdout",
     "output_type": "stream",
     "text": [
      "2021-08-07 14:16:12 INFO     Dataset 'matbench_expt_gap loaded.\n",
      "2021-08-07 14:16:12 INFO     Recorded fold matbench_expt_gap-0 successfully.\n",
      "2021-08-07 14:16:12 INFO     Recorded fold matbench_expt_gap-1 successfully.\n",
      "2021-08-07 14:16:12 INFO     Recorded fold matbench_expt_gap-2 successfully.\n",
      "2021-08-07 14:16:12 INFO     Recorded fold matbench_expt_gap-3 successfully.\n",
      "2021-08-07 14:16:12 INFO     Recorded fold matbench_expt_gap-4 successfully.\n",
      "matbench_expt_gap: MAE 0.3470153653294551\n",
      "2021-08-07 14:16:12 INFO     Loading dataset 'matbench_phonons'...\n"
     ]
    },
    {
     "name": "stderr",
     "output_type": "stream",
     "text": [
      "Reading file /Users/ppdebreuck/anaconda3/envs/modnet/lib/python3.8/site-packages/matminer/datasets/matbench_dielectric.json.gz: 4764it [00:05, 882.79it/s] \n",
      "Decoding objects from /Users/ppdebreuck/anaconda3/envs/modnet/lib/python3.8/site-packages/matminer/datasets/matbench_dielectric.json.gz: 100%|##########| 4764/4764 [00:05<00:00, 882.82it/s] \n",
      "Reading file /Users/ppdebreuck/anaconda3/envs/modnet/lib/python3.8/site-packages/matminer/datasets/matbench_jdft2d.json.gz: 636it [00:00, 699.69it/s]\n",
      "Decoding objects from /Users/ppdebreuck/anaconda3/envs/modnet/lib/python3.8/site-packages/matminer/datasets/matbench_jdft2d.json.gz: 100%|##########| 636/636 [00:00<00:00, 700.19it/s] \n",
      "Reading file /Users/ppdebreuck/anaconda3/envs/modnet/lib/python3.8/site-packages/matminer/datasets/matbench_expt_gap.json.gz: 0it [00:00, ?it/s]\n",
      "Decoding objects from /Users/ppdebreuck/anaconda3/envs/modnet/lib/python3.8/site-packages/matminer/datasets/matbench_expt_gap.json.gz: 0it [00:00, ?it/s]"
     ]
    },
    {
     "name": "stdout",
     "output_type": "stream",
     "text": [
      "2021-08-07 14:16:12 INFO     Dataset 'matbench_phonons loaded.\n",
      "2021-08-07 14:16:12 INFO     Recorded fold matbench_phonons-0 successfully.\n",
      "2021-08-07 14:16:12 INFO     Recorded fold matbench_phonons-1 successfully.\n",
      "2021-08-07 14:16:12 INFO     Recorded fold matbench_phonons-2 successfully.\n",
      "2021-08-07 14:16:12 INFO     Recorded fold matbench_phonons-3 successfully.\n",
      "2021-08-07 14:16:12 INFO     Recorded fold matbench_phonons-4 successfully.\n",
      "matbench_phonons: MAE 38.7524344203875\n",
      "2021-08-07 14:16:12 INFO     Loading dataset 'matbench_log_gvrh'...\n"
     ]
    },
    {
     "name": "stderr",
     "output_type": "stream",
     "text": [
      "\n",
      "Reading file /Users/ppdebreuck/anaconda3/envs/modnet/lib/python3.8/site-packages/matminer/datasets/matbench_phonons.json.gz: 1265it [00:00, 1419.27it/s]\n",
      "Decoding objects from /Users/ppdebreuck/anaconda3/envs/modnet/lib/python3.8/site-packages/matminer/datasets/matbench_phonons.json.gz: 100%|##########| 1265/1265 [00:00<00:00, 1419.82it/s]\n",
      "Decoding objects from /Users/ppdebreuck/anaconda3/envs/modnet/lib/python3.8/site-packages/matminer/datasets/matbench_log_gvrh.json.gz: 100%|#########9| 10937/10987 [00:05<00:00, 2905.96it/s]"
     ]
    },
    {
     "name": "stdout",
     "output_type": "stream",
     "text": [
      "2021-08-07 14:16:18 INFO     Dataset 'matbench_log_gvrh loaded.\n",
      "2021-08-07 14:16:18 INFO     Recorded fold matbench_log_gvrh-0 successfully.\n",
      "2021-08-07 14:16:18 INFO     Recorded fold matbench_log_gvrh-1 successfully.\n",
      "2021-08-07 14:16:18 INFO     Recorded fold matbench_log_gvrh-2 successfully.\n",
      "2021-08-07 14:16:18 INFO     Recorded fold matbench_log_gvrh-3 successfully.\n",
      "2021-08-07 14:16:18 INFO     Recorded fold matbench_log_gvrh-4 successfully.\n",
      "matbench_log_gvrh: MAE 0.07311620406947483\n",
      "2021-08-07 14:16:18 INFO     Loading dataset 'matbench_log_kvrh'...\n"
     ]
    },
    {
     "name": "stderr",
     "output_type": "stream",
     "text": [
      "Reading file /Users/ppdebreuck/anaconda3/envs/modnet/lib/python3.8/site-packages/matminer/datasets/matbench_log_gvrh.json.gz: 10987it [00:06, 1774.05it/s]\n",
      "Decoding objects from /Users/ppdebreuck/anaconda3/envs/modnet/lib/python3.8/site-packages/matminer/datasets/matbench_log_gvrh.json.gz: 100%|##########| 10987/10987 [00:06<00:00, 1774.07it/s]\n",
      "Decoding objects from /Users/ppdebreuck/anaconda3/envs/modnet/lib/python3.8/site-packages/matminer/datasets/matbench_log_kvrh.json.gz:  98%|#########8| 10768/10987 [00:05<00:00, 1986.07it/s]"
     ]
    },
    {
     "name": "stdout",
     "output_type": "stream",
     "text": [
      "2021-08-07 14:16:23 INFO     Dataset 'matbench_log_kvrh loaded.\n",
      "2021-08-07 14:16:23 INFO     Recorded fold matbench_log_kvrh-0 successfully.\n",
      "2021-08-07 14:16:23 INFO     Recorded fold matbench_log_kvrh-1 successfully.\n",
      "2021-08-07 14:16:23 INFO     Recorded fold matbench_log_kvrh-2 successfully.\n",
      "2021-08-07 14:16:23 INFO     Recorded fold matbench_log_kvrh-3 successfully.\n",
      "2021-08-07 14:16:24 INFO     Recorded fold matbench_log_kvrh-4 successfully.\n",
      "matbench_log_kvrh: MAE 0.05477001646276852\n"
     ]
    },
    {
     "name": "stderr",
     "output_type": "stream",
     "text": [
      "Reading file /Users/ppdebreuck/anaconda3/envs/modnet/lib/python3.8/site-packages/matminer/datasets/matbench_log_kvrh.json.gz: 10987it [00:17, 12705.05it/s]"
     ]
    }
   ],
   "source": [
    "for task in mb.tasks:\n",
    "\n",
    "    task.load()\n",
    "    \n",
    "    with open(results_locs[task.dataset_name], \"rb\") as f:\n",
    "        results = pickle.load(f)\n",
    "        \n",
    "    for fold_ind, fold in enumerate(task.folds):\n",
    "\n",
    "        # Classification tasks require different loading as two values are reported per prediction\n",
    "        if task.metadata.task_type == CLF_KEY:\n",
    "            predictions = results[\"predictions\"][fold_ind].values[:, 0].astype(bool).flatten()\n",
    "        else:\n",
    "            # Handle predictions that were made with joint/multitarget learning\n",
    "            if task.dataset_name in target_key_map:\n",
    "                predictions = results[\"predictions\"][fold_ind][target_key_map[task.dataset_name]].values.flatten()\n",
    "            else:\n",
    "                predictions = results[\"predictions\"][fold_ind].values.flatten()\n",
    "\n",
    "            \n",
    "        task.record(fold, predictions)\n",
    "        \n",
    "    if task.metadata.task_type == CLF_KEY:\n",
    "        print(f\"{task.dataset_name}: Accuracy score {task.scores['accuracy']['mean']}\")\n",
    "    else:\n",
    "        print(f\"{task.dataset_name}: MAE {task.scores['mae']['mean']}\")\n",
    "\n",
    "    task.df = None"
   ]
  },
  {
   "cell_type": "code",
   "execution_count": 9,
   "metadata": {},
   "outputs": [
    {
     "name": "stdout",
     "output_type": "stream",
     "text": [
      "2021-08-07 14:17:17 INFO     Successfully wrote MatbenchBenchmark to file 'results.json.gz'.\n"
     ]
    }
   ],
   "source": [
    "mb.to_file(\"results.json.gz\")"
   ]
  },
  {
   "cell_type": "code",
   "execution_count": null,
   "metadata": {},
   "outputs": [],
   "source": []
  }
 ],
 "metadata": {
  "interpreter": {
   "hash": "aee8b7b246df8f9039afb4144a1f6fd8d2ca17a180786b69acc140d282b71a49"
  },
  "kernelspec": {
   "display_name": "Python 3.8.5 64-bit",
   "name": "python3"
  },
  "language_info": {
   "codemirror_mode": {
    "name": "ipython",
    "version": 3
   },
   "file_extension": ".py",
   "mimetype": "text/x-python",
   "name": "python",
   "nbconvert_exporter": "python",
   "pygments_lexer": "ipython3",
   "version": "3.8.5"
  }
 },
 "nbformat": 4,
 "nbformat_minor": 5
}