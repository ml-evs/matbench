{
 "cells": [
  {
   "cell_type": "markdown",
   "source": [
    "# MODNet (v0.1.10)\n",
    "\n",
    "For now, this benchmark file simply loads our existing full benchmark results (265 MB) from [ml-evs/modnet-matbench](https://github.com/ml-evs/modnet-matbench) and exports them in the matbench format. Code for featurisation, hyperparameter optimisation and the final predictions themselves can be found in the aforementioned repository."
   ],
   "metadata": {}
  },
  {
   "cell_type": "code",
   "execution_count": 1,
   "source": [
    "def download_and_extract(url, fname):\n",
    "    import urllib\n",
    "    from zipfile import ZipFile\n",
    "    import os\n",
    "    if os.path.exists(fname):\n",
    "        print(f\"File {fname} already found, will not redownload.\")\n",
    "        return\n",
    "    \n",
    "    response = urllib.request.urlretrieve(url, fname)\n",
    "    with ZipFile(fname, \"r\") as _zip:\n",
    "        _zip.extractall(\".\")\n",
    "        \n",
    "version = \"v0.2.2\"\n",
    "fname = f'modnet-matbench-{version.replace(\"#\", \"-\").replace(\"/\", \"-\")}'\n",
    "if version.startswith(\"v\"):\n",
    "    url = f\"https://github.com/ml-evs/modnet-matbench/archive/refs/tags/{version}.zip\"\n",
    "else:\n",
    "    url = f'https://github.com/ml-evs/modnet-matbench/archive/refs/heads/{version.replace(\"#\", \"%23\")}.zip'\n",
    "\n",
    "\n",
    "download_and_extract(url, fname + \".zip\")"
   ],
   "outputs": [],
   "metadata": {}
  },
  {
   "cell_type": "code",
   "execution_count": 2,
   "source": [
    "import pickle\n",
    "import numpy as np\n",
    "from matbench.bench import MatbenchBenchmark\n",
    "from matbench.constants import CLF_KEY\n",
    "\n",
    "mb = MatbenchBenchmark(\n",
    "    autoload=False, \n",
    "    subset=[\n",
    "        'matbench_dielectric', \n",
    "        'matbench_jdft2d', \n",
    "        'matbench_steels', \n",
    "        'matbench_expt_gap', \n",
    "        'matbench_phonons',\n",
    "        'matbench_log_gvrh',\n",
    "        'matbench_log_kvrh',\n",
    "        'matbench_glass', \n",
    "        'matbench_expt_is_metal', \n",
    "    ],\n",
    ")\n",
    "\n",
    "results_locs = {task.dataset_name: f\"{fname}/{task.dataset_name}/results/{task.dataset_name}_results.pkl\" for task in mb.tasks}\n",
    "# Remap filename for elastic tasks as they were joint-learned\n",
    "results_locs[\"matbench_log_gvrh\"] = results_locs[\"matbench_log_kvrh\"] = f\"{fname}/matbench_elastic/results/matbench_elastic_results.pkl\"\n",
    "target_key_map = {\"matbench_log_gvrh\": \"log10G_VRH\", \"matbench_log_kvrh\": \"log10K_VRH\"}"
   ],
   "outputs": [
    {
     "output_type": "stream",
     "name": "stdout",
     "text": [
      "2021-08-09 09:09:05 INFO     Initialized benchmark 'matbench_v0.1' with 9 tasks: \n",
      "['matbench_dielectric',\n",
      " 'matbench_jdft2d',\n",
      " 'matbench_steels',\n",
      " 'matbench_expt_gap',\n",
      " 'matbench_phonons',\n",
      " 'matbench_log_gvrh',\n",
      " 'matbench_log_kvrh',\n",
      " 'matbench_glass',\n",
      " 'matbench_expt_is_metal']\n"
     ]
    }
   ],
   "metadata": {}
  },
  {
   "cell_type": "code",
   "execution_count": 3,
   "source": [
    "for task in mb.tasks:\n",
    "    task.load()\n",
    "    with open(results_locs[task.dataset_name], \"rb\") as f:\n",
    "        results = pickle.load(f)\n",
    "        \n",
    "    for fold_ind, fold in enumerate(task.folds):\n",
    "\n",
    "        # Handle predictions that were made with joint/multitarget learning\n",
    "        if task.dataset_name in target_key_map:\n",
    "            predictions = results[\"predictions\"][fold_ind][target_key_map[task.dataset_name]].values\n",
    "        else:\n",
    "            predictions = results[\"predictions\"][fold_ind].values\n",
    "        \n",
    "        # Classification tasks must be recorded with labels and not group probabilities\n",
    "        if task.metadata.task_type == CLF_KEY:\n",
    "            predictions = predictions[:, 1] >= 0.5\n",
    "\n",
    "        predictions = predictions.flatten()\n",
    "\n",
    "        task.record(fold, predictions)\n",
    "        \n",
    "    if task.metadata.task_type == CLF_KEY:\n",
    "        print(f\"{task.dataset_name}: Accuracy score {task.scores['accuracy']['mean']}\")\n",
    "        print(f\"{task.dataset_name}: ROC score {task.scores['rocauc']['mean']}\")\n",
    "    else:\n",
    "        print(f\"{task.dataset_name}: MAE {task.scores['mae']['mean']}\")\n",
    "\n",
    "    task.df = None"
   ],
   "outputs": [
    {
     "output_type": "stream",
     "name": "stdout",
     "text": [
      "2021-08-04 20:32:23 INFO     Loading dataset 'matbench_dielectric'...\n",
      "2021-08-04 20:32:28 INFO     Dataset 'matbench_dielectric loaded.\n",
      "2021-08-04 20:32:28 INFO     Recorded fold matbench_dielectric-0 successfully.\n",
      "2021-08-04 20:32:28 INFO     Recorded fold matbench_dielectric-1 successfully.\n",
      "2021-08-04 20:32:28 INFO     Recorded fold matbench_dielectric-2 successfully.\n",
      "2021-08-04 20:32:28 INFO     Recorded fold matbench_dielectric-3 successfully.\n",
      "2021-08-04 20:32:29 INFO     Recorded fold matbench_dielectric-4 successfully.\n",
      "matbench_dielectric: MAE 0.2969698688737498\n",
      "2021-08-04 20:32:29 INFO     Loading dataset 'matbench_jdft2d'...\n",
      "2021-08-04 20:32:29 INFO     Dataset 'matbench_jdft2d loaded.\n",
      "2021-08-04 20:32:29 INFO     Recorded fold matbench_jdft2d-0 successfully.\n",
      "2021-08-04 20:32:29 INFO     Recorded fold matbench_jdft2d-1 successfully.\n",
      "2021-08-04 20:32:29 INFO     Recorded fold matbench_jdft2d-2 successfully.\n",
      "2021-08-04 20:32:29 INFO     Recorded fold matbench_jdft2d-3 successfully.\n",
      "2021-08-04 20:32:29 INFO     Recorded fold matbench_jdft2d-4 successfully.\n",
      "matbench_jdft2d: MAE 34.53678641963336\n",
      "2021-08-04 20:32:29 INFO     Loading dataset 'matbench_steels'...\n",
      "2021-08-04 20:32:29 INFO     Dataset 'matbench_steels loaded.\n",
      "2021-08-04 20:32:29 INFO     Recorded fold matbench_steels-0 successfully.\n",
      "2021-08-04 20:32:29 INFO     Recorded fold matbench_steels-1 successfully.\n",
      "2021-08-04 20:32:29 INFO     Recorded fold matbench_steels-2 successfully.\n",
      "2021-08-04 20:32:29 INFO     Recorded fold matbench_steels-3 successfully.\n",
      "2021-08-04 20:32:29 INFO     Recorded fold matbench_steels-4 successfully.\n",
      "matbench_steels: MAE 96.21387590993324\n",
      "2021-08-04 20:32:29 INFO     Loading dataset 'matbench_expt_gap'...\n",
      "2021-08-04 20:32:29 INFO     Dataset 'matbench_expt_gap loaded.\n",
      "2021-08-04 20:32:29 INFO     Recorded fold matbench_expt_gap-0 successfully.\n",
      "2021-08-04 20:32:29 INFO     Recorded fold matbench_expt_gap-1 successfully.\n",
      "2021-08-04 20:32:29 INFO     Recorded fold matbench_expt_gap-2 successfully.\n",
      "2021-08-04 20:32:29 INFO     Recorded fold matbench_expt_gap-3 successfully.\n",
      "2021-08-04 20:32:29 INFO     Recorded fold matbench_expt_gap-4 successfully.\n",
      "matbench_expt_gap: MAE 0.3470153653294551\n",
      "2021-08-04 20:32:29 INFO     Loading dataset 'matbench_phonons'...\n",
      "2021-08-04 20:32:30 INFO     Dataset 'matbench_phonons loaded.\n",
      "2021-08-04 20:32:30 INFO     Recorded fold matbench_phonons-0 successfully.\n",
      "2021-08-04 20:32:30 INFO     Recorded fold matbench_phonons-1 successfully.\n",
      "2021-08-04 20:32:30 INFO     Recorded fold matbench_phonons-2 successfully.\n",
      "2021-08-04 20:32:30 INFO     Recorded fold matbench_phonons-3 successfully.\n",
      "2021-08-04 20:32:30 INFO     Recorded fold matbench_phonons-4 successfully.\n",
      "matbench_phonons: MAE 38.7524344203875\n",
      "2021-08-04 20:32:30 INFO     Loading dataset 'matbench_log_gvrh'...\n",
      "2021-08-04 20:32:36 INFO     Dataset 'matbench_log_gvrh loaded.\n",
      "2021-08-04 20:32:36 INFO     Recorded fold matbench_log_gvrh-0 successfully.\n",
      "2021-08-04 20:32:36 INFO     Recorded fold matbench_log_gvrh-1 successfully.\n",
      "2021-08-04 20:32:36 INFO     Recorded fold matbench_log_gvrh-2 successfully.\n",
      "2021-08-04 20:32:36 INFO     Recorded fold matbench_log_gvrh-3 successfully.\n",
      "2021-08-04 20:32:36 INFO     Recorded fold matbench_log_gvrh-4 successfully.\n",
      "matbench_log_gvrh: MAE 0.07311620406947483\n",
      "2021-08-04 20:32:36 INFO     Loading dataset 'matbench_log_kvrh'...\n",
      "2021-08-04 20:32:44 INFO     Dataset 'matbench_log_kvrh loaded.\n",
      "2021-08-04 20:32:44 INFO     Recorded fold matbench_log_kvrh-0 successfully.\n",
      "2021-08-04 20:32:44 INFO     Recorded fold matbench_log_kvrh-1 successfully.\n",
      "2021-08-04 20:32:44 INFO     Recorded fold matbench_log_kvrh-2 successfully.\n",
      "2021-08-04 20:32:44 INFO     Recorded fold matbench_log_kvrh-3 successfully.\n",
      "2021-08-04 20:32:44 INFO     Recorded fold matbench_log_kvrh-4 successfully.\n",
      "matbench_log_kvrh: MAE 0.05477001646276852\n",
      "2021-08-04 20:32:44 INFO     Loading dataset 'matbench_glass'...\n",
      "2021-08-04 20:32:44 INFO     Dataset 'matbench_glass loaded.\n",
      "2021-08-04 20:32:44 INFO     Recorded fold matbench_glass-0 successfully.\n",
      "2021-08-04 20:32:44 INFO     Recorded fold matbench_glass-1 successfully.\n",
      "2021-08-04 20:32:44 INFO     Recorded fold matbench_glass-2 successfully.\n",
      "2021-08-04 20:32:44 INFO     Recorded fold matbench_glass-3 successfully.\n",
      "2021-08-04 20:32:44 INFO     Recorded fold matbench_glass-4 successfully.\n",
      "matbench_glass: Accuracy score 0.8676056338028169\n",
      "matbench_glass: ROC score 0.8106763388737604\n",
      "2021-08-04 20:32:44 INFO     Loading dataset 'matbench_expt_is_metal'...\n",
      "2021-08-04 20:32:45 INFO     Dataset 'matbench_expt_is_metal loaded.\n",
      "2021-08-04 20:32:45 INFO     Recorded fold matbench_expt_is_metal-0 successfully.\n",
      "2021-08-04 20:32:45 INFO     Recorded fold matbench_expt_is_metal-1 successfully.\n",
      "2021-08-04 20:32:45 INFO     Recorded fold matbench_expt_is_metal-2 successfully.\n",
      "2021-08-04 20:32:45 INFO     Recorded fold matbench_expt_is_metal-3 successfully.\n",
      "2021-08-04 20:32:45 INFO     Recorded fold matbench_expt_is_metal-4 successfully.\n",
      "matbench_expt_is_metal: Accuracy score 0.9160717675704676\n",
      "matbench_expt_is_metal: ROC score 0.9160515032798082\n"
     ]
    }
   ],
   "metadata": {}
  },
  {
   "cell_type": "code",
   "execution_count": 3,
   "source": [
    "mb.to_file(\"results.json.gz\")"
   ],
   "outputs": [
    {
     "output_type": "stream",
     "name": "stdout",
     "text": [
      "2021-08-09 09:24:36 INFO     Successfully wrote MatbenchBenchmark to file 'results.json.gz'.\n"
     ]
    }
   ],
   "metadata": {}
  },
  {
   "cell_type": "code",
   "execution_count": null,
   "source": [],
   "outputs": [],
   "metadata": {}
  }
 ],
 "metadata": {
  "kernelspec": {
   "name": "python3",
   "display_name": "Python 3.8.5 64-bit ('modnet_38': conda)"
  },
  "language_info": {
   "codemirror_mode": {
    "name": "ipython",
    "version": 3
   },
   "file_extension": ".py",
   "mimetype": "text/x-python",
   "name": "python",
   "nbconvert_exporter": "python",
   "pygments_lexer": "ipython3",
   "version": "3.8.5"
  },
  "interpreter": {
   "hash": "43edae8302d263168e863e37da8c525e7fec6956346860a5632cef95af1c0136"
  }
 },
 "nbformat": 4,
 "nbformat_minor": 5
}